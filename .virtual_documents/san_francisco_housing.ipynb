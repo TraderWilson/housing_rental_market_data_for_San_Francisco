


# Import the required libraries and dependencies
import pandas as pd
import hvplot.pandas
from pathlib import Path





# Using the read_csv function and Path module, create a DataFrame 
# by importing the sfo_neighborhoods_census_data.csv file from the Resources folder
sfo_data_df = pd.read_csv(Path('Resources/sfo_neighborhoods_census_data.csv'))

# Review the first and last five rows of the DataFrame
# YOUR CODE HERE
# YOUR CODE HERE
display(sfo_data_df.head())
display(sfo_data_df.tail())











# Create a numerical aggregation that groups the data by the year and then averages the results.
housing_units_by_year = sfo_data_df.groupby('year').housing_units.mean()

# Review the DataFrame
# YOUR CODE HERE
housing_units_by_year





# Create a visual aggregation explore the housing units by year
# YOUR CODE HERE
housing_units_by_year.hvplot.bar(xlabel = 'Year', 
                                 ylabel = 'Housing Units', 
                                 ylim = (365000, 385000)).opts(yformatter = '%.0f', 
                                                               hover_color = 'orange', 
                                                               title = 'Housing Units in San Francisco from 2010 to 2016')

















# Create a numerical aggregation by grouping the data by year and averaging the results
prices_square_foot_by_year = sfo_data_df.drop(columns = 'neighborhood').groupby('year').mean()

# Review the resulting DataFrame
# YOUR CODE HERE
prices_square_foot_by_year








# Filter out the housing_units column, creating a new DataFrame 
# Keep only sale_price_sqr_foot and gross_rent averages per year
prices_square_foot_by_year = sfo_data_df.groupby('year')[['sale_price_sqr_foot', 'gross_rent']].mean()

# Review the DataFrame
# YOUR CODE HERE
prices_square_foot_by_year






# Plot prices_square_foot_by_year. 
# Inclued labels for the x- and y-axes, and a title.
# YOUR CODE HERE

prices_square_foot_by_year.hvplot(xlabel = 'Year', 
                                  ylabel = 'Gross Rent / Sale Price Per Square Foot', 
                                  label = 'Sale Price Per Square Foot and Average Gross Rent - 2010-2016 - San Francsico')











prices_square_foot_by_year.pct_change()











# Group by year and neighborhood and then create a new dataframe of the mean values
prices_by_year_by_neighborhood = sfo_data_df.groupby(['year', 'neighborhood']).mean()

# Review the DataFrame
# YOUR CODE HERE
prices_by_year_by_neighborhood





# Filter out the housing_units
prices_by_year_by_neighborhood = prices_by_year_by_neighborhood.drop(columns = 'housing_units')

# Review the first and last five rows of the DataFrame
# YOUR CODE HERE
# YOUR CODE HERE
display(prices_by_year_by_neighborhood.head())
display(prices_by_year_by_neighborhood.tail())





# Use hvplot to create an interactive line plot of the average price per square foot
# The plot should have a dropdown selector for the neighborhood
# YOUR CODE HERE
prices_by_year_by_neighborhood.hvplot(xlabel = 'Year', 
                                      ylabel = 'Gross Rent / Sale Price Per Square Foot', 
                                      label = 'Sale Price Per Square Foot and Average Gross Rent - 2010-2016 - By Neighborbood', 
                                      groupby = 'neighborhood')

















# Load neighborhoods coordinates data
neighborhood_locations_df = pd.read_csv(Path('Resources/neighborhoods_coordinates.csv'), index_col = 'Neighborhood')

# Review the DataFrame
# YOUR CODE HERE
neighborhood_locations_df





# Calculate the mean values for each neighborhood
all_neighborhood_info_df = sfo_data_df.groupby('neighborhood').mean()

# Review the resulting DataFrame
# YOUR CODE HERE
all_neighborhood_info_df.drop(columns = 'year', inplace = True)
all_neighborhood_info_df





# Using the Pandas `concat` function, join the 
# neighborhood_locations_df and the all_neighborhood_info_df DataFrame
# The axis of the concatenation is "columns".
# The concat function will automatially combine columns with
# identical information, while keeping the additional columns.
all_neighborhoods_df = pd.concat(
    [neighborhood_locations_df, all_neighborhood_info_df], 
    axis = "columns",
    sort = False
)

# Review the resulting DataFrame
display(all_neighborhoods_df.head())
display(all_neighborhoods_df.tail())



# Call the dropna function to remove any neighborhoods that do not have data
all_neighborhoods_df = all_neighborhoods_df.reset_index().dropna()

# Rename the "index" column as "Neighborhood" for use in the Visualization
all_neighborhoods_df = all_neighborhoods_df.rename(columns = {"index": "Neighborhood"})

# Review the resulting DataFrame
display(all_neighborhoods_df.head())
display(all_neighborhoods_df.tail())





# Create a plot to analyze neighborhood info
# YOUR CODE HERE
all_neighborhoods_df.hvplot.points('Lon', 'Lat', alpha = 0.4, 
                                   geo = True, size = 'sale_price_sqr_foot', color = 'gross_rent', 
                                   tiles='OSM', frame_width = 700, frame_height = 500)








all_neighborhoods_df[all_neighborhoods_df['gross_rent'] == all_neighborhoods_df['gross_rent'].max()]


all_neighborhoods_df[all_neighborhoods_df['sale_price_sqr_foot'] == all_neighborhoods_df['sale_price_sqr_foot'].max()]











#Sort by the neighborhood and year for the original DataFrame sfo_data_df, filter out the housing units

df = sfo_data_df.sort_values(['neighborhood', 'year']).drop(columns = 'housing_units')
df


#Create a new table to show the value of sales price sqr foot for every neighborhood and every year 
sales_price_pivot = df.pivot_table(values='sale_price_sqr_foot', index='neighborhood', columns='year')
sales_price_pivot


#Calculate the average growth rate of sales price sqt foot for every neighborhood
avg_sales_price_neighborhood = sales_price_pivot.pct_change(axis = 1).mean(axis = 1)
avg_sales_price_neighborhood


#Create a new table to show the value of gross rent for every neighborhood and every year 
gross_rent_pivot = df.pivot_table(values='gross_rent', index='neighborhood', columns='year')
gross_rent_pivot


#Calculate the average growth rate of gross rent for every neighborhood
avg_rent_neighborhood = gross_rent_pivot.pct_change(axis = 1).mean(axis = 1)
avg_rent_neighborhood


#Calculate the total growth rate for every neighborhood, and show the result in a descending order
total_growth_neighborhood = avg_rent_neighborhood * avg_sales_price_neighborhood
total_growth_neighborhood.sort_values(ascending = False)


#The neighborhoods whose growth rates are below 0 are not be invested.
total_growth_neighborhood[total_growth_neighborhood.values < 0].index
